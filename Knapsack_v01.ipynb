{
 "cells": [
  {
   "cell_type": "code",
   "execution_count": 1,
   "metadata": {},
   "outputs": [
    {
     "name": "stdout",
     "output_type": "stream",
     "text": [
      "Yokoso, watashi no Knapsack Project...\n"
     ]
    }
   ],
   "source": [
    "print(\"Yokoso, watashi no Knapsack Project...\")"
   ]
  }
 ],
 "metadata": {
  "kernelspec": {
   "display_name": "Python 3.13.0 64-bit",
   "language": "python",
   "name": "python3"
  },
  "language_info": {
   "codemirror_mode": {
    "name": "ipython",
    "version": 3
   },
   "file_extension": ".py",
   "mimetype": "text/x-python",
   "name": "python",
   "nbconvert_exporter": "python",
   "pygments_lexer": "ipython3",
   "version": "3.13.0"
  },
  "orig_nbformat": 4,
  "vscode": {
   "interpreter": {
    "hash": "9903e0ff7ee8013d026ccfcab098155368adeb8f7b6f85db9a4788fd1c8de3af"
   }
  }
 },
 "nbformat": 4,
 "nbformat_minor": 2
}
