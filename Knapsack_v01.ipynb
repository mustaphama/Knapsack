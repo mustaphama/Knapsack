{
 "cells": [
  {
   "cell_type": "code",
   "execution_count": 1,
   "metadata": {},
   "outputs": [
    {
     "name": "stdout",
     "output_type": "stream",
     "text": [
      "Yokoso, watashi no Knapsack Projecto...\n"
     ]
    }
   ],
   "source": [
    "print(\"Yokoso, watashi no Knapsack Projecto...\")"
   ]
  },
  {
   "cell_type": "code",
   "execution_count": 2,
   "metadata": {},
   "outputs": [],
   "source": [
    "class Item():\n",
    "    id = 0\n",
    "    profit = 0\n",
    "    weight = 0\n",
    "    def __init__(self, profit, weight):\n",
    "        self.weight = weight\n",
    "        self.profit = profit\n",
    "    def setProfit(self,p):\n",
    "        self.profit=p\n",
    "    def setWeight(self,w):\n",
    "        self.weight = w\n",
    "\n",
    "class Knapsack():\n",
    "    capacity = 0\n",
    "    nbItems = 0\n",
    "    items = []\n",
    "    def setNbItems(self,nb):\n",
    "        self.nbItems = nb\n",
    "    def setCapacity(self,cap):\n",
    "        self.capacity = cap\n",
    "    def addItem(self,profit, weight):\n",
    "        self.data.append(Item(profit,weight))  \n",
    "    \n"
   ]
  },
  {
   "cell_type": "code",
   "execution_count": null,
   "metadata": {},
   "outputs": [],
   "source": []
  },
  {
   "cell_type": "code",
   "execution_count": 4,
   "metadata": {},
   "outputs": [
    {
     "name": "stdout",
     "output_type": "stream",
     "text": [
      "5\n"
     ]
    }
   ],
   "source": []
  }
 ],
 "metadata": {
  "kernelspec": {
   "display_name": "Python 3.13.0 64-bit",
   "language": "python",
   "name": "python3"
  },
  "language_info": {
   "codemirror_mode": {
    "name": "ipython",
    "version": 3
   },
   "file_extension": ".py",
   "mimetype": "text/x-python",
   "name": "python",
   "nbconvert_exporter": "python",
   "pygments_lexer": "ipython3",
   "version": "3.13.0"
  },
  "orig_nbformat": 4,
  "vscode": {
   "interpreter": {
    "hash": "9903e0ff7ee8013d026ccfcab098155368adeb8f7b6f85db9a4788fd1c8de3af"
   }
  }
 },
 "nbformat": 4,
 "nbformat_minor": 2
}
