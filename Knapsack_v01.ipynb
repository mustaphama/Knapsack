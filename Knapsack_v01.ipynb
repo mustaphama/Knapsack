{
  "cells": [
    {
      "cell_type": "code",
      "execution_count": 6,
      "metadata": {},
      "outputs": [
        {
          "name": "stdout",
          "output_type": "stream",
          "text": [
            "Yokoso, watashi no Knapsack Projecto...\n"
          ]
        }
      ],
      "source": [
        "import numpy as np\n",
        "print(\"Yokoso, watashi no Knapsack Projecto...\")"
      ]
    },
    {
      "cell_type": "code",
      "execution_count": 7,
      "metadata": {},
      "outputs": [],
      "source": [
        "class Item():\n",
        "    profit = 0\n",
        "    weight = 0\n",
        "    def __init__(self, profit, weight):\n",
        "        self.weight = weight\n",
        "        self.profit = profit\n",
        "    def setProfit(self,p):\n",
        "        self.profit=p\n",
        "    def setWeight(self,w):\n",
        "        self.weight = w\n",
        "    def show_item(self):\n",
        "        print(\"Profit: \",self.profit,\" Weight: \",self.weight)\n",
        "\n",
        "class Knapsack():\n",
        "    capacity = 0\n",
        "    nbItems = 0\n",
        "    items = []\n",
        "    def setNbItems(self,nb):\n",
        "        self.nbItems = nb\n",
        "    def setCapacity(self,cap):\n",
        "        self.capacity = cap\n",
        "    def addItem(self,profit, weight):\n",
        "        self.data.append(Item(profit,weight))  \n",
        "    \n"
      ]
    },
    {
      "cell_type": "code",
      "execution_count": 8,
      "metadata": {},
      "outputs": [
        {
          "name": "stdout",
          "output_type": "stream",
          "text": [
            "Profit:  582  Weight:  582\n",
            "Profit:  194  Weight:  194\n",
            "Profit:  679  Weight:  679\n",
            "Profit:  485  Weight:  485\n",
            "Profit:  312  Weight:  396\n",
            "Profit:  873  Weight:  873\n",
            "Profit:  468  Weight:  594\n",
            "Profit:  208  Weight:  264\n",
            "Profit:  364  Weight:  462\n",
            "Profit:  260  Weight:  330\n",
            "Profit:  582  Weight:  582\n",
            "Profit:  388  Weight:  388\n",
            "Profit:  291  Weight:  291\n",
            "Profit:  104  Weight:  132\n",
            "Profit:  520  Weight:  660\n",
            "Profit:  416  Weight:  528\n",
            "Profit:  970  Weight:  970\n",
            "Profit:  260  Weight:  330\n",
            "Profit:  582  Weight:  582\n",
            "Profit:  364  Weight:  462\n",
            "Profit:  776  Weight:  776\n",
            "Profit:  194  Weight:  194\n",
            "Profit:  468  Weight:  594\n",
            "Profit:  970  Weight:  970\n",
            "Profit:  312  Weight:  396\n",
            "Profit:  260  Weight:  330\n",
            "Profit:  156  Weight:  198\n",
            "Profit:  485  Weight:  485\n",
            "Profit:  416  Weight:  528\n",
            "Profit:  364  Weight:  462\n",
            "Profit:  582  Weight:  582\n",
            "Profit:  388  Weight:  388\n",
            "Profit:  468  Weight:  594\n",
            "Profit:  679  Weight:  679\n",
            "Profit:  52  Weight:  66\n",
            "Profit:  156  Weight:  198\n",
            "Profit:  312  Weight:  396\n",
            "Profit:  520  Weight:  660\n",
            "Profit:  52  Weight:  66\n",
            "Profit:  520  Weight:  660\n",
            "Profit:  468  Weight:  594\n",
            "Profit:  260  Weight:  330\n",
            "Profit:  468  Weight:  594\n",
            "Profit:  582  Weight:  582\n",
            "Profit:  388  Weight:  388\n",
            "Profit:  291  Weight:  291\n",
            "Profit:  468  Weight:  594\n",
            "Profit:  485  Weight:  485\n",
            "Profit:  312  Weight:  396\n",
            "Profit:  104  Weight:  132\n",
            "Profit:  468  Weight:  594\n",
            "Profit:  194  Weight:  194\n",
            "Profit:  97  Weight:  97\n",
            "Profit:  776  Weight:  776\n",
            "Profit:  388  Weight:  388\n",
            "Profit:  468  Weight:  594\n",
            "Profit:  416  Weight:  528\n",
            "Profit:  104  Weight:  132\n",
            "Profit:  104  Weight:  132\n",
            "Profit:  582  Weight:  582\n",
            "Profit:  485  Weight:  485\n",
            "Profit:  208  Weight:  264\n",
            "Profit:  388  Weight:  388\n",
            "Profit:  520  Weight:  660\n",
            "Profit:  104  Weight:  132\n",
            "Profit:  260  Weight:  330\n",
            "Profit:  364  Weight:  462\n",
            "Profit:  582  Weight:  582\n",
            "Profit:  468  Weight:  594\n",
            "Profit:  260  Weight:  330\n",
            "Profit:  208  Weight:  264\n",
            "Profit:  156  Weight:  198\n",
            "Profit:  679  Weight:  679\n",
            "Profit:  679  Weight:  679\n",
            "Profit:  97  Weight:  97\n",
            "Profit:  582  Weight:  582\n",
            "Profit:  97  Weight:  97\n",
            "Profit:  156  Weight:  198\n",
            "Profit:  679  Weight:  679\n",
            "Profit:  520  Weight:  660\n",
            "Profit:  208  Weight:  264\n",
            "Profit:  291  Weight:  291\n",
            "Profit:  776  Weight:  776\n",
            "Profit:  52  Weight:  66\n",
            "Profit:  291  Weight:  291\n",
            "Profit:  468  Weight:  594\n",
            "Profit:  156  Weight:  198\n",
            "Profit:  520  Weight:  660\n",
            "Profit:  468  Weight:  594\n",
            "Profit:  52  Weight:  66\n",
            "Profit:  873  Weight:  873\n",
            "Profit:  194  Weight:  194\n",
            "Profit:  520  Weight:  660\n",
            "Profit:  873  Weight:  873\n",
            "Profit:  873  Weight:  873\n",
            "Profit:  104  Weight:  132\n",
            "Profit:  873  Weight:  873\n",
            "Profit:  416  Weight:  528\n",
            "Profit:  776  Weight:  776\n",
            "Profit:  312  Weight:  396\n"
          ]
        }
      ],
      "source": [
        "\n",
        "# Read the data\n",
        "def read_data(filename):\n",
        "    f = open(filename, \"r\")\n",
        "    lines = f.readlines()\n",
        "\n",
        "    data = lines[7:]\n",
        "    items = []\n",
        "    for line in data:\n",
        "        values = line.strip().split()\n",
        "        items.append(Item(values[1],values[2]))\n",
        "    f.close()\n",
        "    return items\n",
        "\n",
        "items = read_data(\"Data/pi-12-100-1000-001.kna\")\n",
        "        \n",
        "for elem in items:\n",
        "        elem.show_item()\n",
        "\n"
      ]
    },
    {
      "cell_type": "code",
      "execution_count": 9,
      "metadata": {},
      "outputs": [
        {
          "name": "stdout",
          "output_type": "stream",
          "text": [
            "[array([0, 0, 0, 0, 1, 1, 0, 0, 0, 0, 0, 1, 0, 0, 1, 0, 0, 1, 0, 1, 1, 1,\n",
            "       0, 0, 0, 1, 1, 1, 0, 0, 1, 1, 1, 0, 1, 0, 0, 1, 1, 0, 1, 0, 0, 1,\n",
            "       0, 1, 1, 1, 1, 0, 0, 1, 0, 1, 1, 0, 1, 1, 1, 1, 1, 0, 1, 0, 0, 0,\n",
            "       0, 1, 1, 0, 0, 1, 0, 0, 1, 1, 1, 0, 0, 0, 1, 0, 1, 0, 0, 0, 1, 0,\n",
            "       0, 1, 1, 1, 1, 0, 0, 1, 0, 0, 1, 1]), array([1, 0, 1, 0, 1, 0, 0, 1, 1, 1, 1, 0, 1, 1, 1, 1, 1, 0, 1, 0, 1, 1,\n",
            "       0, 0, 1, 1, 0, 0, 0, 1, 1, 0, 0, 0, 1, 1, 0, 1, 1, 1, 0, 1, 1, 0,\n",
            "       0, 1, 0, 0, 0, 1, 0, 0, 0, 0, 1, 0, 1, 1, 0, 1, 0, 1, 1, 1, 1, 1,\n",
            "       1, 0, 1, 0, 1, 0, 0, 1, 1, 1, 1, 0, 1, 0, 0, 0, 0, 1, 1, 0, 1, 1,\n",
            "       0, 0, 0, 0, 1, 0, 0, 0, 0, 0, 1, 1]), array([1, 1, 0, 1, 0, 0, 0, 1, 1, 0, 0, 1, 1, 0, 1, 1, 0, 0, 1, 0, 0, 0,\n",
            "       1, 0, 0, 0, 0, 1, 1, 1, 0, 1, 0, 1, 0, 0, 0, 0, 0, 0, 1, 0, 0, 1,\n",
            "       0, 1, 1, 1, 0, 1, 0, 1, 1, 1, 0, 0, 0, 1, 0, 1, 1, 0, 0, 0, 1, 1,\n",
            "       1, 1, 1, 1, 0, 1, 1, 0, 0, 0, 1, 0, 0, 1, 1, 1, 1, 0, 0, 1, 0, 1,\n",
            "       0, 1, 0, 0, 1, 0, 1, 0, 0, 1, 0, 1]), array([1, 1, 1, 1, 1, 1, 1, 1, 1, 0, 0, 1, 1, 0, 1, 1, 1, 0, 1, 0, 1, 1,\n",
            "       1, 0, 0, 0, 0, 0, 1, 0, 1, 0, 0, 1, 1, 0, 0, 0, 1, 0, 0, 0, 0, 0,\n",
            "       1, 1, 0, 0, 0, 0, 0, 1, 1, 0, 1, 0, 1, 0, 0, 0, 1, 1, 1, 1, 1, 0,\n",
            "       1, 0, 0, 1, 1, 1, 0, 0, 1, 1, 1, 1, 0, 1, 0, 0, 1, 0, 1, 1, 0, 0,\n",
            "       0, 1, 1, 0, 0, 0, 1, 1, 0, 0, 0, 0]), array([0, 1, 1, 1, 1, 0, 0, 0, 1, 1, 0, 0, 1, 1, 0, 1, 1, 1, 0, 0, 1, 0,\n",
            "       0, 0, 1, 0, 0, 1, 1, 1, 1, 0, 1, 0, 0, 0, 1, 0, 1, 0, 0, 0, 0, 0,\n",
            "       0, 1, 0, 1, 1, 0, 1, 1, 0, 1, 0, 1, 0, 0, 1, 0, 0, 1, 1, 0, 0, 1,\n",
            "       1, 0, 1, 0, 0, 1, 0, 1, 0, 0, 0, 0, 0, 0, 0, 1, 1, 0, 0, 0, 0, 1,\n",
            "       0, 0, 0, 1, 0, 0, 1, 0, 0, 1, 1, 0])]\n"
          ]
        }
      ],
      "source": [
        "## Algorithmes génétiques\n",
        "SAD = Knapsack()\n",
        "SAD.nbItems = 100\n",
        "proba_0 = 0.5 # Probabilité de génération de zero\n",
        "n = (int) (SAD.nbItems/20)\n",
        "Nsol = []\n",
        "for i in range(n):\n",
        "    sol = np.random.choice([0, 1], size=SAD.nbItems, p=[proba_0, 1-proba_0]) #génération aléatoire de solutions\n",
        "    Nsol.append(sol)\n",
        "print(Nsol)"
      ]
    },
    {
      "cell_type": "code",
      "execution_count": null,
      "metadata": {},
      "outputs": [
        {
          "name": "stdout",
          "output_type": "stream",
          "text": [
            "5\n"
          ]
        }
      ],
      "source": []
    }
  ],
  "metadata": {
    "kernelspec": {
      "display_name": "Python 3",
      "language": "python",
      "name": "python3"
    },
    "language_info": {
      "codemirror_mode": {
        "name": "ipython",
        "version": 3
      },
      "file_extension": ".py",
      "mimetype": "text/x-python",
      "name": "python",
      "nbconvert_exporter": "python",
      "pygments_lexer": "ipython3",
      "version": "3.13.2"
    },
    "orig_nbformat": 4
  },
  "nbformat": 4,
  "nbformat_minor": 2
}
